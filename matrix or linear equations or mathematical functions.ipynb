{
 "cells": [
  {
   "cell_type": "markdown",
   "metadata": {},
   "source": [
    "### np functions"
   ]
  },
  {
   "cell_type": "code",
   "execution_count": 1,
   "metadata": {},
   "outputs": [
    {
     "data": {
      "text/plain": [
       "<Figure size 640x480 with 1 Axes>"
      ]
     },
     "metadata": {},
     "output_type": "display_data"
    }
   ],
   "source": [
    "import numpy as np\n",
    "def f(x):\n",
    "    res = x**2\n",
    "    if res > 20:\n",
    "        res = np.nan\n",
    "    return res\n",
    "\n",
    "x = np.linspace(0, 1, 11)\n",
    "y = np.empty_like(x)\n",
    "\n",
    "#print(x)\n",
    "#print(y)\n",
    "\n",
    "i = 0\n",
    "for xi in x:\n",
    "    y[i] = f(xi)\n",
    "    i += 1\n",
    "    \n",
    "import matplotlib.pyplot as plt\n",
    "plt.plot(x, y, 'bo')\n",
    "plt.show()"
   ]
  },
  {
   "cell_type": "markdown",
   "metadata": {},
   "source": [
    "### np matrix ops"
   ]
  },
  {
   "cell_type": "code",
   "execution_count": 2,
   "metadata": {},
   "outputs": [
    {
     "name": "stdout",
     "output_type": "stream",
     "text": [
      "matrix A = [[3 2]\n",
      " [1 2]]\n",
      "\n",
      "[ 0.5  -0.25]\n",
      "[ 0.5  -0.25]\n"
     ]
    }
   ],
   "source": [
    "import numpy as np\n",
    "A = np.array([ [3, 2], [1, 2] ])\n",
    "\n",
    "print(\"matrix A =\",A)\n",
    "\n",
    "b = np.array([1,0])\n",
    "\n",
    "# to find x in A*x =b i.e solving linear equation\n",
    "# x = A^(-1) * b\n",
    "print()\n",
    "sol1 = np.dot(np.linalg.inv(A), b)\n",
    "print(sol1)\n",
    "\n",
    "# same as above but more efficient way - \n",
    "sol2 = np.linalg.solve(A, b)\n",
    "print(sol2)"
   ]
  },
  {
   "cell_type": "markdown",
   "metadata": {},
   "source": [
    "### Matrix ops using symbolic python or sympy"
   ]
  },
  {
   "cell_type": "code",
   "execution_count": 6,
   "metadata": {},
   "outputs": [
    {
     "data": {
      "image/png": "[encoded data removed]",
      "text/latex": [
       "$$\\left\\{\\left ( \\frac{1}{2}, \\quad - \\frac{1}{4}\\right )\\right\\}$$"
      ],
      "text/plain": [
       "{(1/2, -1/4)}"
      ]
     },
     "execution_count": 6,
     "metadata": {},
     "output_type": "execute_result"
    }
   ],
   "source": [
    "import sympy as sym\n",
    "sym.init_printing()\n",
    "x, y = sym.symbols('x y')\n",
    "sym.linsolve([3*x + 2*y -1, x + 2*y], (x, y))\n",
    "\n"
   ]
  },
  {
   "cell_type": "code",
   "execution_count": 9,
   "metadata": {},
   "outputs": [
    {
     "name": "stdout",
     "output_type": "stream",
     "text": [
      "{(1/2, -1/4)}\n"
     ]
    }
   ],
   "source": [
    "# same as above but in a different way\n",
    "\n",
    "z = sym.linsolve([3*x + 2*y -1, x + 2*y], (x, y))\n",
    "sym.pprint(z)"
   ]
  },
  {
   "cell_type": "code",
   "execution_count": null,
   "metadata": {},
   "outputs": [],
   "source": []
  }
 ],
 "metadata": {
  "kernelspec": {
   "display_name": "Python 3",
   "language": "python",
   "name": "python3"
  },
  "language_info": {
   "codemirror_mode": {
    "name": "ipython",
    "version": 3
   },
   "file_extension": ".py",
   "mimetype": "text/x-python",
   "name": "python",
   "nbconvert_exporter": "python",
   "pygments_lexer": "ipython3",
   "version": "3.7.0"
  }
 },
 "nbformat": 4,
 "nbformat_minor": 2
}
