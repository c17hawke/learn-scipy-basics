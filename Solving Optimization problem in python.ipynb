{
 "cells": [
  {
   "cell_type": "markdown",
   "metadata": {},
   "source": [
    "### Optimization in python"
   ]
  },
  {
   "cell_type": "markdown",
   "metadata": {},
   "source": [
    "Q. minimize x1.x2.(x1 + x2 + x3) + x3\n",
    "    \n",
    "    s.t. x1.x2.x3.x4 >= 25\n",
    "    x1^2 + x2^2 + x3^2 + x4^2 = 40\n",
    "    \n",
    "    1 <= x1,x2,x3,x4 <= 5\n",
    "    x0 = (1, 5, 5, 1)"
   ]
  },
  {
   "cell_type": "code",
   "execution_count": 24,
   "metadata": {},
   "outputs": [],
   "source": [
    "import numpy as np\n",
    "from scipy.optimize import minimize"
   ]
  },
  {
   "cell_type": "code",
   "execution_count": 25,
   "metadata": {},
   "outputs": [],
   "source": [
    "def objective(x):\n",
    "    x1 = x[0]\n",
    "    x2 = x[1]    \n",
    "    x3 = x[2]    \n",
    "    x4 = x[3]\n",
    "    return x1*x2*(x1 + x2 + x3) + x3\n",
    "\n",
    "def constraint1(x):\n",
    "    return x[0]*x[1]*x[2]*x[3] - 25.0\n",
    "\n",
    "def constraint2(x):\n",
    "    sum_eq = 40.0\n",
    "    for i in range(4):\n",
    "        sum_eq = sum_eq - x[i]**2\n",
    "    return sum_eq"
   ]
  },
  {
   "cell_type": "code",
   "execution_count": 26,
   "metadata": {},
   "outputs": [
    {
     "name": "stdout",
     "output_type": "stream",
     "text": [
      "60.0\n"
     ]
    }
   ],
   "source": [
    "x0 = [1.0, 5.0, 5.0, 1.0]\n",
    "print(objective(x0))"
   ]
  },
  {
   "cell_type": "code",
   "execution_count": 28,
   "metadata": {},
   "outputs": [],
   "source": [
    "# b = (1.0, 5.0)\n",
    "# bnds = (b,b,b,b) #bounds\n",
    "# con1 = {'type': 'ineq', 'func': constraint1}\n",
    "# con2 = {'type': 'eq', 'func': constraint2}\n",
    "# cons = ([con1, con2])\n",
    "\n",
    "b = (1.0,5.0)\n",
    "bnds = (b, b, b, b)\n",
    "con1 = {'type': 'ineq', 'fun': constraint1} \n",
    "con2 = {'type': 'eq', 'fun': constraint2}\n",
    "cons = ([con1,con2])\n",
    "solution = minimize(objective,x0,method='SLSQP',\\\n",
    "                    bounds=bnds,constraints=cons)"
   ]
  },
  {
   "cell_type": "code",
   "execution_count": 29,
   "metadata": {},
   "outputs": [],
   "source": [
    "sol = minimize(objective, x0, method='SLSQP', bounds = bnds, constraints=cons)"
   ]
  },
  {
   "cell_type": "code",
   "execution_count": 30,
   "metadata": {},
   "outputs": [
    {
     "name": "stdout",
     "output_type": "stream",
     "text": [
      "     fun: 11.923157425639621\n",
      "     jac: array([8.48000705, 8.48000753, 2.43570364, 0.        ])\n",
      " message: 'Optimization terminated successfully.'\n",
      "    nfev: 66\n",
      "     nit: 11\n",
      "    njev: 11\n",
      "  status: 0\n",
      " success: True\n",
      "       x: array([1.19820854, 1.19820847, 3.48261293, 5.        ])\n"
     ]
    }
   ],
   "source": [
    "print(sol)"
   ]
  },
  {
   "cell_type": "code",
   "execution_count": null,
   "metadata": {},
   "outputs": [],
   "source": []
  }
 ],
 "metadata": {
  "kernelspec": {
   "display_name": "Python 3",
   "language": "python",
   "name": "python3"
  },
  "language_info": {
   "codemirror_mode": {
    "name": "ipython",
    "version": 3
   },
   "file_extension": ".py",
   "mimetype": "text/x-python",
   "name": "python",
   "nbconvert_exporter": "python",
   "pygments_lexer": "ipython3",
   "version": "3.7.0"
  }
 },
 "nbformat": 4,
 "nbformat_minor": 2
}
